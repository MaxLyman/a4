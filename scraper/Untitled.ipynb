{
 "cells": [
  {
   "cell_type": "code",
   "execution_count": 7,
   "id": "1645bd42",
   "metadata": {},
   "outputs": [
    {
     "name": "stdout",
     "output_type": "stream",
     "text": [
      "0 :  a\n",
      "1 :  b\n",
      "2 :  c\n"
     ]
    }
   ],
   "source": [
    "letters = ['a', 'b', 'c']\n",
    "for ii, x in enumerate(letters):\n",
    "    print(ii, \": \", x)"
   ]
  },
  {
   "cell_type": "code",
   "execution_count": 13,
   "id": "f8dfa1c2",
   "metadata": {},
   "outputs": [
    {
     "data": {
      "text/plain": [
       "{'apple': 1, 'banana': 2, 'coconut': 3, 'durian': 4}"
      ]
     },
     "execution_count": 13,
     "metadata": {},
     "output_type": "execute_result"
    }
   ],
   "source": [
    "d = {\n",
    "    'apple': 1,\n",
    "    'banana': 2,\n",
    "    'coconut': 3\n",
    "}\n",
    "\n",
    "d['durian'] = 4\n",
    "d"
   ]
  },
  {
   "cell_type": "code",
   "execution_count": 15,
   "id": "771cf2c7",
   "metadata": {},
   "outputs": [
    {
     "data": {
      "text/plain": [
       "245"
      ]
     },
     "execution_count": 15,
     "metadata": {},
     "output_type": "execute_result"
    }
   ],
   "source": [
    "class Building:\n",
    "    \n",
    "    def __init__(self, number):\n",
    "        self.number = number\n",
    "\n",
    "b = Building(245)\n",
    "\n",
    "b.number"
   ]
  },
  {
   "cell_type": "code",
   "execution_count": 18,
   "id": "a33481ee",
   "metadata": {},
   "outputs": [
    {
     "data": {
      "text/plain": [
       "set"
      ]
     },
     "execution_count": 18,
     "metadata": {},
     "output_type": "execute_result"
    }
   ],
   "source": [
    "a = {1, 2, 3, 4}\n",
    "b = {3, 4, 5, 6}\n",
    "type(a)"
   ]
  },
  {
   "cell_type": "code",
   "execution_count": 26,
   "id": "0b6a0d76",
   "metadata": {},
   "outputs": [
    {
     "name": "stdout",
     "output_type": "stream",
     "text": [
      "h\n",
      "e\n",
      "o\n"
     ]
    }
   ],
   "source": [
    "for i in \"hello\":\n",
    "    if i == \"l\":\n",
    "        continue\n",
    "    print(i)"
   ]
  },
  {
   "cell_type": "code",
   "execution_count": 29,
   "id": "011d5db1",
   "metadata": {},
   "outputs": [
    {
     "name": "stdout",
     "output_type": "stream",
     "text": [
      "153\n"
     ]
    }
   ],
   "source": [
    "def add_many(*args):\n",
    "    s = 0\n",
    "    for n in args:\n",
    "        s += n\n",
    "    print(s)\n",
    "\n",
    "add_many(100, 50, 3)"
   ]
  }
 ],
 "metadata": {
  "kernelspec": {
   "display_name": "Python 3",
   "language": "python",
   "name": "python3"
  },
  "language_info": {
   "codemirror_mode": {
    "name": "ipython",
    "version": 3
   },
   "file_extension": ".py",
   "mimetype": "text/x-python",
   "name": "python",
   "nbconvert_exporter": "python",
   "pygments_lexer": "ipython3",
   "version": "3.9.5"
  }
 },
 "nbformat": 4,
 "nbformat_minor": 5
}
